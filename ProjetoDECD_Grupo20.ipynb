{
  "nbformat": 4,
  "nbformat_minor": 0,
  "metadata": {
    "colab": {
      "provenance": [],
      "include_colab_link": true
    },
    "kernelspec": {
      "name": "python3",
      "display_name": "Python 3"
    },
    "language_info": {
      "name": "python"
    }
  },
  "cells": [
    {
      "cell_type": "markdown",
      "metadata": {
        "id": "view-in-github",
        "colab_type": "text"
      },
      "source": [
        "<a href=\"https://colab.research.google.com/github/RafaelGesero/DECDProject/blob/master/ProjetoDECD_Grupo20.ipynb\" target=\"_parent\"><img src=\"https://colab.research.google.com/assets/colab-badge.svg\" alt=\"Open In Colab\"/></a>"
      ]
    },
    {
      "cell_type": "markdown",
      "source": [
        "# Projeto de Descuberta e extração de dados"
      ],
      "metadata": {
        "id": "dMu7gOAbP882"
      }
    },
    {
      "cell_type": "markdown",
      "source": [
        "## Business Understanding\n",
        "\n",
        "- determinar objetivos da E-REDES (background, objetivos do negocio e objetivos de sucesso)\n",
        "\n",
        "E-REDES é o novo nome para a antiga conhecida EDP Distribuição (EDP), uma das lideres internacionais no que toca à transição energética para renovaveis e está presente em 5 continentes. É conhecida como uma empresa que produz energia, mas tambem transporta, gere, distribui e comercializa. Está ainda totalmente focada em formas inovadoras de o fazer, tendo establecido a meta de chegar a 2030 100% verde.\n",
        "Tem como principais objetivos garantir fornecimento de eletricidade para todos os consumidores, com qualidade, segurança e eficiência, promover o desenvolvimento da rede de distribuição que suporte a transição energética e assegurar, de forma isenta, a disponibilidade de serviços aos agentes de mercado.\n",
        "\n",
        "\n",
        "\n",
        "\n",
        "\n",
        "\n",
        "\n",
        "\n",
        "\n",
        "\n",
        "\n",
        "\n",
        "\n",
        "\n",
        "- riscos, custos e beneficios, recursos\n",
        "- nosso objetivo para fazermos o data mining, criterios para sermos bem sucedidos no data mining\n",
        "-"
      ],
      "metadata": {
        "id": "KjsBReeURPi8"
      }
    },
    {
      "cell_type": "markdown",
      "source": [
        "## Data Understanding"
      ],
      "metadata": {
        "id": "IkssucOlRaa3"
      }
    },
    {
      "cell_type": "markdown",
      "source": [
        "## Data Preparation"
      ],
      "metadata": {
        "id": "w9Uyrp1aRh2W"
      }
    },
    {
      "cell_type": "code",
      "execution_count": null,
      "metadata": {
        "id": "MSLs2Q6ePG63"
      },
      "outputs": [],
      "source": [
        "import numpy as np\n",
        "import pandas as pd\n",
        "\n",
        "import sklearn\n",
        "\n",
        "%matplotlib inline\n",
        "import matplotlib.pyplot as plt"
      ]
    },
    {
      "cell_type": "code",
      "source": [
        "import requests\n",
        "import json\n"
      ],
      "metadata": {
        "id": "3DA1QtdiPLmA"
      },
      "execution_count": null,
      "outputs": []
    },
    {
      "cell_type": "markdown",
      "source": [
        "\\"
      ],
      "metadata": {
        "id": "MEHwXXIQPL6J"
      }
    }
  ]
}