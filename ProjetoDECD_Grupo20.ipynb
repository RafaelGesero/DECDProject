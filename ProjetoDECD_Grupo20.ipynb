{
  "nbformat": 4,
  "nbformat_minor": 0,
  "metadata": {
    "colab": {
      "provenance": [],
      "include_colab_link": true
    },
    "kernelspec": {
      "name": "python3",
      "display_name": "Python 3"
    },
    "language_info": {
      "name": "python"
    }
  },
  "cells": [
    {
      "cell_type": "markdown",
      "metadata": {
        "id": "view-in-github",
        "colab_type": "text"
      },
      "source": [
        "<a href=\"https://colab.research.google.com/github/RafaelGesero/DECDProject/blob/master/ProjetoDECD_Grupo20.ipynb\" target=\"_parent\"><img src=\"https://colab.research.google.com/assets/colab-badge.svg\" alt=\"Open In Colab\"/></a>"
      ]
    },
    {
      "cell_type": "markdown",
      "source": [
        "# Projeto de Descuberta e extração de dados"
      ],
      "metadata": {
        "id": "dMu7gOAbP882"
      }
    },
    {
      "cell_type": "markdown",
      "source": [
        "## Business Understanding\n",
        "\n",
        "- determinar objetivos da E-REDES (background, objetivos do negocio e objetivos de sucesso)\n",
        "\n",
        "**objetivos do negocio:**\n",
        "\n",
        "\n",
        "1.   Garantir fornecimento de eletricidade para todos os consumidores, com qualidade, segurança e eficiência;\n",
        "2.  \n",
        "\n",
        "\n",
        "\n",
        "\n",
        "Promover desenvolvimento da rede de distribuição que suporte a transição energética;\n",
        "\n",
        "Assegurar, de forma isenta, a disponibilidade de serviços aos agentes de mercado.\n",
        "\n",
        "- riscos, custos e beneficios, recursos\n",
        "- nosso objetivo para fazermos o data mining, criterios para sermos bem sucedidos no data mining\n",
        "-"
      ],
      "metadata": {
        "id": "KjsBReeURPi8"
      }
    },
    {
      "cell_type": "markdown",
      "source": [
        "## Data Understanding"
      ],
      "metadata": {
        "id": "IkssucOlRaa3"
      }
    },
    {
      "cell_type": "markdown",
      "source": [
        "## Data Preparation"
      ],
      "metadata": {
        "id": "w9Uyrp1aRh2W"
      }
    },
    {
      "cell_type": "code",
      "execution_count": null,
      "metadata": {
        "id": "MSLs2Q6ePG63"
      },
      "outputs": [],
      "source": [
        "import numpy as np\n",
        "import pandas as pd\n",
        "\n",
        "import sklearn\n",
        "\n",
        "%matplotlib inline\n",
        "import matplotlib.pyplot as plt"
      ]
    },
    {
      "cell_type": "code",
      "source": [
        "import requests\n",
        "import json\n"
      ],
      "metadata": {
        "id": "3DA1QtdiPLmA"
      },
      "execution_count": null,
      "outputs": []
    },
    {
      "cell_type": "markdown",
      "source": [
        "\\"
      ],
      "metadata": {
        "id": "MEHwXXIQPL6J"
      }
    }
  ]
}