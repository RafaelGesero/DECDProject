{
  "nbformat": 4,
  "nbformat_minor": 0,
  "metadata": {
    "colab": {
      "provenance": [],
      "include_colab_link": true
    },
    "kernelspec": {
      "name": "python3",
      "display_name": "Python 3"
    },
    "language_info": {
      "name": "python"
    }
  },
  "cells": [
    {
      "cell_type": "markdown",
      "metadata": {
        "id": "view-in-github",
        "colab_type": "text"
      },
      "source": [
        "<a href=\"https://colab.research.google.com/github/RafaelGesero/DECDProject/blob/master/ProjetoDECD_Grupo20.ipynb\" target=\"_parent\"><img src=\"https://colab.research.google.com/assets/colab-badge.svg\" alt=\"Open In Colab\"/></a>"
      ]
    },
    {
      "cell_type": "markdown",
      "source": [
        "# Projeto de Descuberta e extração de dados"
      ],
      "metadata": {
        "id": "dMu7gOAbP882"
      }
    },
    {
      "cell_type": "markdown",
      "source": [
        "Para guardar no git é necessario:\n",
        "1. Ir a Ficheiro > Guardar uma cópia no GitHub ;\n",
        "2. Selecionar o repositorio DECDProject"
      ],
      "metadata": {
        "id": "QRKbNNba0ukx"
      }
    },
    {
      "cell_type": "markdown",
      "source": [
        "## Business Understanding\n",
        "\n",
        "- determinar objetivos da E-REDES (background, objetivos do negocio e objetivos de sucesso)\n",
        "\n",
        "**background E-REDES**\n",
        "E-REDES\n",
        "E-REDES é o novo nome para a antiga conhecida EDP Distribuição, sendo então uma empresa que produz energia, mas tambem transporta, gere, distribui e coemrcializa. Estão ainda totalmento focados em formas inovadoras para o fazer, tendo então como objetivo serem 100% verdes ate 2030.\n",
        "\n",
        "\n",
        "\n",
        "**objetivos do negocio:**\n",
        "\n",
        "\n",
        "1. Garantir fornecimento de eletricidade para todos os consumidores, com qualidade, segurança e eficiência;\n",
        "2. Promover desenvolvimento da rede de distribuição que suporte a transição energética;\n",
        "3. Assegurar, de forma isenta, a disponibilidade de serviços aos agentes de mercado.\n",
        "100% verdes até 2030\n",
        "\n",
        "\n",
        "\n",
        "\n",
        "\n",
        "\n",
        "\n",
        "\n",
        "\n",
        "\n",
        "- riscos, custos e beneficios, recursos\n",
        "- nosso objetivo para fazermos o data mining, criterios para sermos bem sucedidos no data mining\n",
        "-"
      ],
      "metadata": {
        "id": "KjsBReeURPi8"
      }
    },
    {
      "cell_type": "markdown",
      "source": [
        "## Data Understanding"
      ],
      "metadata": {
        "id": "IkssucOlRaa3"
      }
    },
    {
      "cell_type": "markdown",
      "source": [
        "## Data Preparation"
      ],
      "metadata": {
        "id": "w9Uyrp1aRh2W"
      }
    },
    {
      "cell_type": "markdown",
      "source": [],
      "metadata": {
        "id": "fcxi1skbaA98"
      }
    },
    {
      "cell_type": "code",
      "execution_count": 1,
      "metadata": {
        "id": "MSLs2Q6ePG63"
      },
      "outputs": [],
      "source": [
        "import numpy as np\n",
        "import pandas as pd\n",
        "\n",
        "import sklearn\n",
        "\n",
        "%matplotlib inline\n",
        "import matplotlib.pyplot as plt"
      ]
    },
    {
      "cell_type": "code",
      "source": [
        "import os\n",
        "\n",
        "data_path = '../data/' if os.path.exists('../data/') else 'https://raw.githubusercontent.com/RafaelGesero/DECDProject/master/data/'\n",
        "\n",
        "ordensServico_df = pd.read_csv(data_path + '15-ordens-de-servico.csv', sep=\";\")\n",
        "contratoAtivo_df = pd.read_csv(data_path + '20-caracterizacao-pes-contrato-ativo.csv', sep =\";\")\n",
        "contadoresEnergia_df = pd.read_csv(data_path + '21-contadores-de-energia.csv', sep =\";\", low_memory=False)\n",
        "cargaPorInstalacao_df = pd.read_csv(data_path + '22-diagrama-de-carga-por-instalacao.csv', sep =\";\")\n",
        "consumosFaturados_df = pd.read_csv(data_path + '3-consumos-faturados-por-municipio-ultimos-10-anos.csv', sep =\";\")\n",
        "mobilidadeEletrica_df = pd.read_csv(data_path + '9-plr-mobilidade-eletrica.csv', sep =\";\")\n"
      ],
      "metadata": {
        "id": "3DA1QtdiPLmA"
      },
      "execution_count": 2,
      "outputs": []
    },
    {
      "cell_type": "code",
      "source": [
        "m1  = pd.merge(ordensServico_df, contratoAtivo_df, how = 'outer')\n",
        "#m2 = pd.merge(contadoresEnergia_df, cargaPorInstalacao_df, how = 'outer')\n",
        "#m3 = pd.merge(consumosFaturados_df, mobilidadeEletrica_df, how = 'outer')\n",
        "# m4 = pd.merge(m1,m2, how = 'outer')\n",
        "m2 = m1.groupby('Concelho')\n",
        "\n",
        "display(m2)\n"
      ],
      "metadata": {
        "colab": {
          "base_uri": "https://localhost:8080/",
          "height": 34
        },
        "id": "fiLNQyrvwIa4",
        "outputId": "5a2aaaac-3712-40ba-dd02-0782a578fc60"
      },
      "execution_count": 9,
      "outputs": [
        {
          "output_type": "display_data",
          "data": {
            "text/plain": [
              "<pandas.core.groupby.generic.DataFrameGroupBy object at 0x7d635cf5c4c0>"
            ]
          },
          "metadata": {}
        }
      ]
    },
    {
      "cell_type": "markdown",
      "source": [
        "\\"
      ],
      "metadata": {
        "id": "MEHwXXIQPL6J"
      }
    }
  ]
}